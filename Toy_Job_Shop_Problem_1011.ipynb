{
 "cells": [
  {
   "cell_type": "markdown",
   "metadata": {},
   "source": [
    "# Import Libraries"
   ]
  },
  {
   "cell_type": "code",
   "execution_count": 1,
   "metadata": {},
   "outputs": [],
   "source": [
    "import pandas as pd\n",
    "# Import Python wrapper for or-tools CP-SAT solver.\n",
    "from ortools.sat.python import cp_model\n",
    "import collections\n",
    "from datetime import timedelta\n",
    "import datetime\n",
    "from pandas import ExcelWriter\n",
    "from pandas import ExcelFile\n",
    "import numpy as np"
   ]
  },
  {
   "cell_type": "markdown",
   "metadata": {},
   "source": [
    "# Define the model"
   ]
  },
  {
   "cell_type": "code",
   "execution_count": 2,
   "metadata": {},
   "outputs": [],
   "source": [
    "def MinimalJobshopSat():\n",
    "    \"\"\"Minimal jobshop problem.\"\"\"\n",
    "    # Create the model.\n",
    "    model = cp_model.CpModel()"
   ]
  },
  {
   "cell_type": "code",
   "execution_count": 3,
   "metadata": {},
   "outputs": [],
   "source": [
    "model = cp_model.CpModel()"
   ]
  },
  {
   "cell_type": "markdown",
   "metadata": {},
   "source": [
    "# Import Data"
   ]
  },
  {
   "cell_type": "code",
   "execution_count": 5,
   "metadata": {},
   "outputs": [
    {
     "data": {
      "text/html": [
       "<div>\n",
       "<style scoped>\n",
       "    .dataframe tbody tr th:only-of-type {\n",
       "        vertical-align: middle;\n",
       "    }\n",
       "\n",
       "    .dataframe tbody tr th {\n",
       "        vertical-align: top;\n",
       "    }\n",
       "\n",
       "    .dataframe thead th {\n",
       "        text-align: right;\n",
       "    }\n",
       "</style>\n",
       "<table border=\"1\" class=\"dataframe\">\n",
       "  <thead>\n",
       "    <tr style=\"text-align: right;\">\n",
       "      <th></th>\n",
       "      <th>Organisation</th>\n",
       "      <th>Task 1 completion date</th>\n",
       "      <th>Task 2 Completion date</th>\n",
       "      <th>Task 3 length</th>\n",
       "      <th>Task 4 length</th>\n",
       "      <th>Initialisation_Date</th>\n",
       "      <th>Task_1_length</th>\n",
       "      <th>Task_2_length</th>\n",
       "      <th>Max_Preparation_Task_2_dt</th>\n",
       "      <th>Transition_Date_Start</th>\n",
       "      <th>Pause_length</th>\n",
       "    </tr>\n",
       "  </thead>\n",
       "  <tbody>\n",
       "    <tr>\n",
       "      <th>0</th>\n",
       "      <td>Org 1</td>\n",
       "      <td>2019-10-09</td>\n",
       "      <td>2019-10-16</td>\n",
       "      <td>15</td>\n",
       "      <td>5</td>\n",
       "      <td>2019-10-01</td>\n",
       "      <td>8</td>\n",
       "      <td>7</td>\n",
       "      <td>2019-10-20</td>\n",
       "      <td>2019-10-25</td>\n",
       "      <td>9</td>\n",
       "    </tr>\n",
       "    <tr>\n",
       "      <th>1</th>\n",
       "      <td>Org 2</td>\n",
       "      <td>2019-10-10</td>\n",
       "      <td>2019-10-17</td>\n",
       "      <td>15</td>\n",
       "      <td>10</td>\n",
       "      <td>2019-10-01</td>\n",
       "      <td>9</td>\n",
       "      <td>7</td>\n",
       "      <td>2019-10-20</td>\n",
       "      <td>2019-10-25</td>\n",
       "      <td>8</td>\n",
       "    </tr>\n",
       "    <tr>\n",
       "      <th>2</th>\n",
       "      <td>Org 3</td>\n",
       "      <td>2019-10-15</td>\n",
       "      <td>2019-10-18</td>\n",
       "      <td>15</td>\n",
       "      <td>10</td>\n",
       "      <td>2019-10-01</td>\n",
       "      <td>14</td>\n",
       "      <td>3</td>\n",
       "      <td>2019-10-20</td>\n",
       "      <td>2019-10-25</td>\n",
       "      <td>7</td>\n",
       "    </tr>\n",
       "    <tr>\n",
       "      <th>3</th>\n",
       "      <td>Org 4</td>\n",
       "      <td>2019-10-12</td>\n",
       "      <td>2019-10-16</td>\n",
       "      <td>20</td>\n",
       "      <td>5</td>\n",
       "      <td>2019-10-01</td>\n",
       "      <td>11</td>\n",
       "      <td>4</td>\n",
       "      <td>2019-10-20</td>\n",
       "      <td>2019-10-25</td>\n",
       "      <td>9</td>\n",
       "    </tr>\n",
       "    <tr>\n",
       "      <th>4</th>\n",
       "      <td>Org 5</td>\n",
       "      <td>2019-10-13</td>\n",
       "      <td>2019-10-20</td>\n",
       "      <td>25</td>\n",
       "      <td>5</td>\n",
       "      <td>2019-10-01</td>\n",
       "      <td>12</td>\n",
       "      <td>7</td>\n",
       "      <td>2019-10-20</td>\n",
       "      <td>2019-10-25</td>\n",
       "      <td>5</td>\n",
       "    </tr>\n",
       "  </tbody>\n",
       "</table>\n",
       "</div>"
      ],
      "text/plain": [
       "  Organisation Task 1 completion date Task 2 Completion date  Task 3 length  \\\n",
       "0        Org 1             2019-10-09             2019-10-16             15   \n",
       "1        Org 2             2019-10-10             2019-10-17             15   \n",
       "2        Org 3             2019-10-15             2019-10-18             15   \n",
       "3        Org 4             2019-10-12             2019-10-16             20   \n",
       "4        Org 5             2019-10-13             2019-10-20             25   \n",
       "\n",
       "   Task 4 length Initialisation_Date  Task_1_length  Task_2_length  \\\n",
       "0              5          2019-10-01              8              7   \n",
       "1             10          2019-10-01              9              7   \n",
       "2             10          2019-10-01             14              3   \n",
       "3              5          2019-10-01             11              4   \n",
       "4              5          2019-10-01             12              7   \n",
       "\n",
       "  Max_Preparation_Task_2_dt Transition_Date_Start  Pause_length  \n",
       "0                2019-10-20            2019-10-25             9  \n",
       "1                2019-10-20            2019-10-25             8  \n",
       "2                2019-10-20            2019-10-25             7  \n",
       "3                2019-10-20            2019-10-25             9  \n",
       "4                2019-10-20            2019-10-25             5  "
      ]
     },
     "execution_count": 5,
     "metadata": {},
     "output_type": "execute_result"
    }
   ],
   "source": [
    "imported_data_df = pd.read_excel('Toy Job Shop problem.xlsx', sheet_name='Data')\n",
    "\n",
    "#print (imported_data_df)\n",
    "\n",
    "#check column format\n",
    "imported_data_df.dtypes\n",
    "\n",
    "#Organisation                      object\n",
    "#Task 1 completion date    datetime64[ns]\n",
    "#Task 2 Completion date    datetime64[ns]\n",
    "#Task 3 length                      int64\n",
    "#Task 4 length                      int64\n",
    "#dtype: object\n",
    "\n",
    "#Create initialisation date 2019-10-01\n",
    "imported_data_df=imported_data_df.assign(Initialisation_Date = pd.to_datetime('2019-10-01'))\n",
    "\n",
    "#create Task_1_length column (int)\n",
    "imported_data_df=imported_data_df.assign(Task_1_length = ((imported_data_df['Task 1 completion date'] - imported_data_df['Initialisation_Date'])/np.timedelta64(1,'D')).astype(int))\n",
    "\n",
    "#creating Task_2_lenght on the assumption that task two can start only after task 1 is completed. is that the case?\n",
    "imported_data_df=imported_data_df.assign(Task_2_length = ((imported_data_df['Task 2 Completion date'] - imported_data_df['Task 1 completion date'])/np.timedelta64(1,'D')).astype(int))\n",
    "#df['diff_days'] = df['End_date'] - df['Start_date']\n",
    "#df['diff_days']=df['diff_days']/np.timedelta64(1,'D')\n",
    "\n",
    "\n",
    "#find max(Task 2 Completion date) and define Transition_Date_Start as max(Task 2 Completion date) +5\n",
    "imported_data_df=imported_data_df.assign(Max_Preparation_Task_2_dt = max(imported_data_df['Task 2 Completion date']))\n",
    "#imported_data_df=imported_data_df.assign(Transition_Date_Start =  imported_data_df['Max_Preparation_Task_2_dt'] + 5 )\n",
    "imported_data_df[\"Transition_Date_Start\"] = imported_data_df[\"Max_Preparation_Task_2_dt\"] + timedelta(days=5)\n",
    "\n",
    "#compute waiting days between task2 end date and transition start date \n",
    "wait_days = imported_data_df['Transition_Date_Start'] - imported_data_df['Task 2 Completion date']\n",
    "#convert the days into integer format\n",
    "Pause_length=[]\n",
    "for i in wait_days:\n",
    "    j = i.days\n",
    "    Pause_length.append(j)\n",
    "#Add this column to the dataframe \n",
    "imported_data_df['Pause_length'] = Pause_length\n",
    "\n",
    "imported_data_df.head()"
   ]
  },
  {
   "cell_type": "markdown",
   "metadata": {},
   "source": [
    "# Define the data"
   ]
  },
  {
   "cell_type": "code",
   "execution_count": 6,
   "metadata": {},
   "outputs": [],
   "source": [
    "\n",
    "#task_1 = [(df.iloc[i, 0], df.iloc[i, 6]) for i in range(0,5)]\n",
    "#task_1 = [([int(s) for s in t.split() if s.isdigit()][0],n) for (t,n) in task_1]\n",
    "#task_2 = [(df.iloc[i, 0], df.iloc[i, 7]) for i in range(0,5)]\n",
    "#task_2 = [([int(s) for s in t.split() if s.isdigit()][0],n) for (t,n) in task_2]\n",
    "#task_3 = [(df.iloc[i, 0], df.iloc[i, 3]) for i in range(0,5)]\n",
    "#task_3 = [([int(s) for s in t.split() if s.isdigit()][0],n) for (t,n) in task_3]\n",
    "#task_4 = [(df.iloc[i, 0], df.iloc[i, 4]) for i in range(0,5)]\n",
    "#task_4 = [([int(s) for s in t.split() if s.isdigit()][0],n) for (t,n) in task_4]\n",
    "#task_1 = [inst(s) for s in str.split() if s.isdigit() for (s,n) in task_1]\n",
    "\n",
    "#jobs_data = [ # task = (machine_id, processing_time).\n",
    " #           task_1, task_2, task_3, task_4\n",
    "  #          ]\n",
    "\n",
    "# jobs_data = [  # task = (machine_id, processing_time).\n",
    "#         [(0, 3), (1, 2), (2, 2)],  # Job0\n",
    "#         [(0, 2), (2, 1), (1, 4)],  # Job1\n",
    "#         [(1, 4), (2, 3)]  # Job2\n",
    "#     ]\n",
    "\n",
    "#wait_period = 5\n",
    "\n",
    "#df=imported_data_df\n",
    "df = imported_data_df[['Organisation','Task_1_length', 'Task_2_length','Pause_length','Task 3 length','Task 4 length']]\n",
    "\n",
    "jobs_data = []\n",
    "for j in range (1, len(df.columns)):\n",
    "    ls = []\n",
    "    for i in range (0,len(df.index)):\n",
    "        task = (i+1, df.iloc[i,j])\n",
    "        ls.append(task)\n",
    "    jobs_data.append(ls)\n",
    "    \n",
    "org_count = 1 + max(task[0] for job in jobs_data for task in job)\n",
    "all_organisations = range(org_count)"
   ]
  },
  {
   "cell_type": "code",
   "execution_count": 7,
   "metadata": {},
   "outputs": [
    {
     "name": "stdout",
     "output_type": "stream",
     "text": [
      "[[(1, 8), (2, 9), (3, 14), (4, 11), (5, 12)], [(1, 7), (2, 7), (3, 3), (4, 4), (5, 7)], [(1, 9), (2, 8), (3, 7), (4, 9), (5, 5)], [(1, 15), (2, 15), (3, 15), (4, 20), (5, 25)], [(1, 5), (2, 10), (3, 10), (4, 5), (5, 5)]]\n"
     ]
    }
   ],
   "source": [
    "#[print(job) for job in jobs_data]\n",
    "print(jobs_data)"
   ]
  },
  {
   "cell_type": "markdown",
   "metadata": {},
   "source": [
    "# Define the variables"
   ]
  },
  {
   "cell_type": "code",
   "execution_count": 8,
   "metadata": {},
   "outputs": [],
   "source": [
    "# Named tuple to store information about created variables.\n",
    "task_type = collections.namedtuple('task_type', 'start end interval')\n",
    "# Named tuple to manipulate solution information.\n",
    "assigned_task_type = collections.namedtuple('assigned_task_type',\n",
    "                                            'start job index duration')"
   ]
  },
  {
   "cell_type": "code",
   "execution_count": 9,
   "metadata": {},
   "outputs": [],
   "source": [
    "# Create job intervals and add to the corresponding machine lists.\n",
    "all_tasks = {}\n",
    "org_to_intervals = collections.defaultdict(list)\n",
    "\n",
    "# Computes horizon dynamically as the sum of all durations.\n",
    "horizon = sum(task[1] for job in jobs_data for task in job)\n",
    "\n",
    "for job_id, job in enumerate(jobs_data):\n",
    "        for task_id, task in enumerate(job):\n",
    "            organisation = task[0]\n",
    "            duration = task[1]\n",
    "            suffix = '_%i_%i' % (job_id, task_id)\n",
    "            start_var = model.NewIntVar(0, int(horizon), 'start' + suffix)\n",
    "            end_var = model.NewIntVar(0, int(horizon), 'end' + suffix)\n",
    "            interval_var = model.NewIntervalVar(start_var, duration, end_var,\n",
    "                                                'interval' + suffix)\n",
    "            all_tasks[job_id, task_id] = task_type(\n",
    "                start=start_var, end=end_var, interval=interval_var)\n",
    "            org_to_intervals[organisation].append(interval_var)"
   ]
  },
  {
   "cell_type": "markdown",
   "metadata": {},
   "source": [
    "# Define the constraints"
   ]
  },
  {
   "cell_type": "code",
   "execution_count": 10,
   "metadata": {},
   "outputs": [],
   "source": [
    "# Create and add disjunctive constraints.\n",
    "for organisation in all_organisations:\n",
    "    model.AddNoOverlap(org_to_intervals[organisation])\n",
    "    \n",
    "# Precedences inside a job.\n",
    "#for job_id, job in enumerate(jobs_data):\n",
    "#    for task_id in range(len(job) - 1):\n",
    "#        model.Add(all_tasks[job_id, task_id +\n",
    "#                            1].start >= all_tasks[job_id, task_id].end)"
   ]
  },
  {
   "cell_type": "markdown",
   "metadata": {},
   "source": [
    "# Define the objective"
   ]
  },
  {
   "cell_type": "code",
   "execution_count": 11,
   "metadata": {},
   "outputs": [],
   "source": [
    "# Makespan objective.\n",
    "obj_var = model.NewIntVar(0, int(horizon), 'makespan')\n",
    "model.AddMaxEquality(obj_var, [\n",
    "    all_tasks[job_id, len(job) - 1].end\n",
    "    for job_id, job in enumerate(jobs_data)\n",
    "])\n",
    "model.Minimize(obj_var)"
   ]
  },
  {
   "cell_type": "markdown",
   "metadata": {},
   "source": [
    "# Declare the solver"
   ]
  },
  {
   "cell_type": "code",
   "execution_count": 12,
   "metadata": {},
   "outputs": [],
   "source": [
    "# Solve model.\n",
    "solver = cp_model.CpSolver()\n",
    "status = solver.Solve(model)"
   ]
  },
  {
   "cell_type": "markdown",
   "metadata": {},
   "source": [
    "# Display the results"
   ]
  },
  {
   "cell_type": "code",
   "execution_count": 13,
   "metadata": {},
   "outputs": [
    {
     "name": "stdout",
     "output_type": "stream",
     "text": [
      "Optimal Schedule Length: 54\n",
      "Organisation 0: \n",
      "           \n",
      "Organisation 1: job_0_0   job_1_0   job_2_0   job_3_0   job_4_0   \n",
      "           [0,8]     [8,15]    [15,24]   [24,39]   [39,44]   \n",
      "Organisation 2: job_0_1   job_1_1   job_2_1   job_3_1   job_4_1   \n",
      "           [0,9]     [9,16]    [16,24]   [24,39]   [39,49]   \n",
      "Organisation 3: job_0_2   job_1_2   job_2_2   job_3_2   job_4_2   \n",
      "           [0,14]    [14,17]   [17,24]   [24,39]   [39,49]   \n",
      "Organisation 4: job_0_3   job_1_3   job_2_3   job_3_3   job_4_3   \n",
      "           [0,11]    [11,15]   [15,24]   [24,44]   [44,49]   \n",
      "Organisation 5: job_0_4   job_1_4   job_2_4   job_3_4   job_4_4   \n",
      "           [0,12]    [12,19]   [19,24]   [24,49]   [49,54]   \n",
      "\n"
     ]
    }
   ],
   "source": [
    "# Create one list of assigned tasks per machine.\n",
    "assigned_jobs = collections.defaultdict(list)\n",
    "for job_id, job in enumerate(jobs_data):\n",
    "    for task_id, task in enumerate(job):\n",
    "        organisation = task[0]\n",
    "        assigned_jobs[organisation].append(\n",
    "            assigned_task_type(\n",
    "                start=solver.Value(all_tasks[job_id, task_id].start),\n",
    "                job=job_id,\n",
    "                index=task_id,\n",
    "                duration=task[1]))\n",
    "\n",
    "# Create per organisation output lines.\n",
    "output = ''\n",
    "for organisation in all_organisations:\n",
    "    # Sort by starting time.\n",
    "    assigned_jobs[organisation].sort()\n",
    "    sol_line_tasks = 'Organisation ' + str(organisation) + ': '\n",
    "    sol_line = '           '\n",
    "\n",
    "    for assigned_task in assigned_jobs[organisation]:\n",
    "        name = 'job_%i_%i' % (assigned_task.job, assigned_task.index)\n",
    "        # Add spaces to output to align columns.\n",
    "        sol_line_tasks += '%-10s' % name\n",
    "\n",
    "        start = assigned_task.start\n",
    "        duration = assigned_task.duration\n",
    "        sol_tmp = '[%i,%i]' % (start, start + duration)\n",
    "        # Add spaces to output to align columns.\n",
    "        sol_line += '%-10s' % sol_tmp\n",
    "\n",
    "    sol_line += '\\n'\n",
    "    sol_line_tasks += '\\n'\n",
    "    output += sol_line_tasks\n",
    "    output += sol_line\n",
    "\n",
    "# Finally print the solution found.\n",
    "print('Optimal Schedule Length: %i' % solver.ObjectiveValue())\n",
    "print(output)"
   ]
  },
  {
   "cell_type": "code",
   "execution_count": null,
   "metadata": {},
   "outputs": [],
   "source": []
  },
  {
   "cell_type": "markdown",
   "metadata": {},
   "source": [
    "# Visualize the results"
   ]
  },
  {
   "cell_type": "code",
   "execution_count": 17,
   "metadata": {},
   "outputs": [
    {
     "data": {
      "text/plain": [
       "<matplotlib.collections.BrokenBarHCollection at 0x11aec67b8>"
      ]
     },
     "execution_count": 17,
     "metadata": {},
     "output_type": "execute_result"
    },
    {
     "data": {
      "image/png": "[encoded data removed]",
      "text/plain": [
       "<matplotlib.figure.Figure at 0x11ae58908>"
      ]
     },
     "metadata": {
      "needs_background": "light"
     },
     "output_type": "display_data"
    }
   ],
   "source": [
    "import matplotlib.pyplot as plt\n",
    "%matplotlib inline\n",
    "# Declaring a figure \"gnt\" \n",
    "fig, gnt = plt.subplots() \n",
    "\n",
    "# Setting Y-axis limits \n",
    "gnt.set_ylim(0, 50) \n",
    "\n",
    "# Setting X-axis limits \n",
    "gnt.set_xlim(0, 160) \n",
    "\n",
    "# Setting labels for x-axis and y-axis \n",
    "gnt.set_xlabel('Date') \n",
    "gnt.set_ylabel('Organisation') \n",
    "\n",
    "# Setting ticks on y-axis \n",
    "gnt.set_yticks([15, 25, 35]) \n",
    "# Labelling tickes of y-axis \n",
    "gnt.set_yticklabels(['1', '2', '3']) \n",
    "\n",
    "# Setting graph attribute \n",
    "gnt.grid(True) \n",
    "\n",
    "# Declaring a bar in schedule \n",
    "gnt.broken_barh([(40, 20)], (30, 9),\n",
    "facecolors =('tab:orange')) \n",
    "\n",
    "# Declaring multiple bars in at same level and same width \n",
    "gnt.broken_barh([(110, 10), (150, 10)], (10, 9),\n",
    "facecolors ='tab:blue') \n",
    "\n",
    "gnt.broken_barh([(10, 50), (100, 20), (130, 10)], (20, 9),\n",
    "facecolors =('tab:red')) \n",
    "\n",
    "#plt.savefig(\"gantt1.png\") \n"
   ]
  },
  {
   "cell_type": "markdown",
   "metadata": {},
   "source": [
    "# Complete Code (Modularization)"
   ]
  },
  {
   "cell_type": "code",
   "execution_count": 20,
   "metadata": {},
   "outputs": [],
   "source": [
    "import pandas as pd\n",
    "# Import Python wrapper for or-tools CP-SAT solver.\n",
    "from ortools.sat.python import cp_model\n",
    "import collections\n",
    "from datetime import timedelta\n",
    "import datetime\n",
    "from pandas import ExcelWriter\n",
    "from pandas import ExcelFile\n",
    "import numpy as np\n",
    "\n",
    "def MinimalJobshopToy():\n",
    "    #define the model\n",
    "    model = cp_model.CpModel()\n",
    "    \n",
    "    '''Import Data'''\n",
    "    #set data directory\n",
    "    data_dir='Toy Job Shop problem.xlsx'\n",
    "    \n",
    "    imported_data_df = pd.read_excel(data_dir, sheet_name='Data')\n",
    "\n",
    "    #print (imported_data_df)\n",
    "\n",
    "    #check column format\n",
    "    imported_data_df.dtypes\n",
    "\n",
    "    #Organisation                      object\n",
    "    #Task 1 completion date    datetime64[ns]\n",
    "    #Task 2 Completion date    datetime64[ns]\n",
    "    #Task 3 length                      int64\n",
    "    #Task 4 length                      int64\n",
    "    #dtype: object\n",
    "\n",
    "    #Create initialisation date 2019-10-01\n",
    "    imported_data_df=imported_data_df.assign(Initialisation_Date = pd.to_datetime('2019-10-01'))\n",
    "\n",
    "    #create Task_1_length column (int)\n",
    "    imported_data_df=imported_data_df.assign(Task_1_length = ((imported_data_df['Task 1 completion date'] - imported_data_df['Initialisation_Date'])/np.timedelta64(1,'D')).astype(int))\n",
    "\n",
    "    #creating Task_2_lenght on the assumption that task two can start only after task 1 is completed. is that the case?\n",
    "    imported_data_df=imported_data_df.assign(Task_2_length = ((imported_data_df['Task 2 Completion date'] - imported_data_df['Task 1 completion date'])/np.timedelta64(1,'D')).astype(int))\n",
    "    #df['diff_days'] = df['End_date'] - df['Start_date']\n",
    "    #df['diff_days']=df['diff_days']/np.timedelta64(1,'D')\n",
    "\n",
    "\n",
    "    #find max(Task 2 Completion date) and define Transition_Date_Start as max(Task 2 Completion date) +5\n",
    "    imported_data_df=imported_data_df.assign(Max_Preparation_Task_2_dt = max(imported_data_df['Task 2 Completion date']))\n",
    "    #imported_data_df=imported_data_df.assign(Transition_Date_Start =  imported_data_df['Max_Preparation_Task_2_dt'] + 5 )\n",
    "    imported_data_df[\"Transition_Date_Start\"] = imported_data_df[\"Max_Preparation_Task_2_dt\"] + timedelta(days=5)\n",
    "    \n",
    "    #compute waiting days between task2 end date and transition start date \n",
    "    wait_days = imported_data_df['Transition_Date_Start'] - imported_data_df['Task 2 Completion date']\n",
    "    #convert the days into integer format\n",
    "    Pause_length=[]\n",
    "    for i in wait_days:\n",
    "        j = i.days\n",
    "        Pause_length.append(j)\n",
    "    #Add this column to the dataframe \n",
    "    imported_data_df['Pause_length'] = Pause_length\n",
    "    \n",
    "\n",
    "    \n",
    "    '''Define the data'''\n",
    "    df = imported_data_df[['Organisation','Task_1_length', 'Task_2_length','Pause_length','Task 3 length','Task 4 length']]\n",
    "    \n",
    "    jobs_data = []\n",
    "    for j in range (1, len(df.columns)):\n",
    "        ls = []\n",
    "        for i in range (0,len(df.index)):\n",
    "            task = (i+1, df.iloc[i,j])\n",
    "            ls.append(task)\n",
    "        jobs_data.append(ls)\n",
    "    \n",
    "    org_count = 1 + max(task[0] for job in jobs_data for task in job)\n",
    "    all_organisations = range(org_count)\n",
    "    \n",
    "    \n",
    "    '''Define Variables'''\n",
    "    # Named tuple to store information about created variables.\n",
    "    task_type = collections.namedtuple('task_type', 'start end interval')\n",
    "    # Named tuple to manipulate solution information.\n",
    "    assigned_task_type = collections.namedtuple('assigned_task_type',\n",
    "                                                'start job index duration')\n",
    "    \n",
    "    # Create job intervals and add to the corresponding machine lists.\n",
    "    all_tasks = {}\n",
    "    org_to_intervals = collections.defaultdict(list)\n",
    "\n",
    "    # Computes horizon dynamically as the sum of all durations.\n",
    "    horizon = sum(task[1] for job in jobs_data for task in job)\n",
    "\n",
    "    for job_id, job in enumerate(jobs_data):\n",
    "            for task_id, task in enumerate(job):\n",
    "                organisation = task[0]\n",
    "                duration = task[1]\n",
    "                suffix = '_%i_%i' % (job_id, task_id)\n",
    "                start_var = model.NewIntVar(0, int(horizon), 'start' + suffix)\n",
    "                end_var = model.NewIntVar(0, int(horizon), 'end' + suffix)\n",
    "                interval_var = model.NewIntervalVar(start_var, duration, end_var,\n",
    "                                                    'interval' + suffix)\n",
    "                all_tasks[job_id, task_id] = task_type(\n",
    "                    start=start_var, end=end_var, interval=interval_var)\n",
    "                org_to_intervals[organisation].append(interval_var)\n",
    "    \n",
    "    \n",
    "    '''Define Constraints'''\n",
    "    # Create and add disjunctive constraints.\n",
    "    for organisation in all_organisations:\n",
    "        model.AddNoOverlap(org_to_intervals[organisation])\n",
    "\n",
    "    \n",
    "    '''Define the Objective'''\n",
    "    # Makespan objective.\n",
    "    obj_var = model.NewIntVar(0, int(horizon), 'makespan')\n",
    "    model.AddMaxEquality(obj_var, [\n",
    "        all_tasks[job_id, len(job) - 1].end\n",
    "        for job_id, job in enumerate(jobs_data)\n",
    "    ])\n",
    "    model.Minimize(obj_var)\n",
    "    \n",
    "    \n",
    "    '''Declare the Solver'''\n",
    "    # Solve model.\n",
    "    solver = cp_model.CpSolver()\n",
    "    status = solver.Solve(model)\n",
    "    \n",
    "    '''Display the results'''\n",
    "    # Create one list of assigned tasks per machine.\n",
    "    assigned_jobs = collections.defaultdict(list)\n",
    "    for job_id, job in enumerate(jobs_data):\n",
    "        for task_id, task in enumerate(job):\n",
    "            organisation = task[0]\n",
    "            assigned_jobs[organisation].append(\n",
    "                assigned_task_type(\n",
    "                    start=solver.Value(all_tasks[job_id, task_id].start),\n",
    "                    job=job_id,\n",
    "                    index=task_id,\n",
    "                    duration=task[1]))\n",
    "\n",
    "    # Create per organisation output lines.\n",
    "    output = ''\n",
    "    for organisation in all_organisations:\n",
    "        # Sort by starting time.\n",
    "        assigned_jobs[organisation].sort()\n",
    "        sol_line_tasks = 'Organisation ' + str(organisation) + ': '\n",
    "        sol_line = '           '\n",
    "\n",
    "        for assigned_task in assigned_jobs[organisation]:\n",
    "            name = 'job_%i_%i' % (assigned_task.job, assigned_task.index)\n",
    "            # Add spaces to output to align columns.\n",
    "            sol_line_tasks += '%-10s' % name\n",
    "\n",
    "            start = assigned_task.start\n",
    "            duration = assigned_task.duration\n",
    "            sol_tmp = '[%i,%i]' % (start, start + duration)\n",
    "            # Add spaces to output to align columns.\n",
    "            sol_line += '%-10s' % sol_tmp\n",
    "\n",
    "        sol_line += '\\n'\n",
    "        sol_line_tasks += '\\n'\n",
    "        output += sol_line_tasks\n",
    "        output += sol_line\n",
    "\n",
    "    # Finally print the solution found.\n",
    "    print('Optimal Schedule Length: %i' % solver.ObjectiveValue())\n",
    "    print(output)\n"
   ]
  },
  {
   "cell_type": "code",
   "execution_count": 21,
   "metadata": {},
   "outputs": [
    {
     "name": "stdout",
     "output_type": "stream",
     "text": [
      "Optimal Schedule Length: 54\n",
      "Organisation 0: \n",
      "           \n",
      "Organisation 1: job_0_0   job_1_0   job_2_0   job_3_0   job_4_0   \n",
      "           [0,8]     [8,15]    [15,24]   [24,39]   [39,44]   \n",
      "Organisation 2: job_0_1   job_1_1   job_2_1   job_3_1   job_4_1   \n",
      "           [0,9]     [9,16]    [16,24]   [24,39]   [39,49]   \n",
      "Organisation 3: job_0_2   job_1_2   job_2_2   job_3_2   job_4_2   \n",
      "           [0,14]    [14,17]   [17,24]   [24,39]   [39,49]   \n",
      "Organisation 4: job_0_3   job_1_3   job_2_3   job_3_3   job_4_3   \n",
      "           [0,11]    [11,15]   [15,24]   [24,44]   [44,49]   \n",
      "Organisation 5: job_0_4   job_1_4   job_2_4   job_3_4   job_4_4   \n",
      "           [0,12]    [12,19]   [19,24]   [24,49]   [49,54]   \n",
      "\n"
     ]
    }
   ],
   "source": [
    "MinimalJobshopToy()"
   ]
  },
  {
   "cell_type": "code",
   "execution_count": 22,
   "metadata": {},
   "outputs": [],
   "source": [
    "## TODO: \n",
    "\n",
    "# Convert the outputs from the solver into dates\n",
    "# Get the visualisation working. (Build out two visulations one for high level and one for lower level tasks).\n",
    "# General tidy up of the code (make more generalisable as we go forward)\n",
    "# Organisation numbers not lined up exactly?"
   ]
  }
 ],
 "metadata": {
  "kernelspec": {
   "display_name": "Python 3",
   "language": "python",
   "name": "python3"
  },
  "language_info": {
   "codemirror_mode": {
    "name": "ipython",
    "version": 3
   },
   "file_extension": ".py",
   "mimetype": "text/x-python",
   "name": "python",
   "nbconvert_exporter": "python",
   "pygments_lexer": "ipython3",
   "version": "3.6.8"
  }
 },
 "nbformat": 4,
 "nbformat_minor": 2
}
